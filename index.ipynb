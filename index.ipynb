{
 "cells": [
  {
   "cell_type": "markdown",
   "metadata": {},
   "source": [
    "# Managing Time Series Data - Lab\n",
    "\n",
    "## Introduction\n",
    "\n",
    "In the previous lesson, you learned that time series data are everywhere and working with time series data is an important skill for data scientists!\n",
    "\n",
    "In this lab, you'll practice your previously learned techniques to import, clean, and manipulate time series data.\n",
    "\n",
    "The lab will cover how to perform time series analysis while working with large datasets. The dataset can be memory intensive so your computer will need at least 2GB of memory to perform some of the calculations.\n",
    "\n",
    "\n",
    "## Objectives\n",
    "\n",
    "You will be able to:\n",
    "\n",
    "- Load time series data using Pandas and perform time series indexing \n",
    "- Perform data cleaning operation on time series data \n",
    "- Change the granularity of a time series \n",
    "\n",
    "\n",
    "## Let's get started!\n",
    "\n",
    "Import the following libraries: \n",
    "\n",
    "* `pandas`, using the alias `pd` \n",
    "* `pandas.tseries` \n",
    "* `matplotlib.pyplot`, using the alias `plt` \n",
    "* `statsmodels.api`, using the alias `sm`"
   ]
  },
  {
   "cell_type": "code",
   "execution_count": 1,
   "metadata": {},
   "outputs": [
    {
     "name": "stderr",
     "output_type": "stream",
     "text": [
      "/Users/stlanier/opt/anaconda3/envs/learn-env/lib/python3.6/importlib/_bootstrap.py:219: RuntimeWarning: numpy.ufunc size changed, may indicate binary incompatibility. Expected 192 from C header, got 216 from PyObject\n",
      "  return f(*args, **kwds)\n",
      "/Users/stlanier/opt/anaconda3/envs/learn-env/lib/python3.6/importlib/_bootstrap.py:219: RuntimeWarning: numpy.ufunc size changed, may indicate binary incompatibility. Expected 192 from C header, got 216 from PyObject\n",
      "  return f(*args, **kwds)\n",
      "/Users/stlanier/opt/anaconda3/envs/learn-env/lib/python3.6/importlib/_bootstrap.py:219: RuntimeWarning: numpy.ufunc size changed, may indicate binary incompatibility. Expected 192 from C header, got 216 from PyObject\n",
      "  return f(*args, **kwds)\n",
      "/Users/stlanier/opt/anaconda3/envs/learn-env/lib/python3.6/importlib/_bootstrap.py:219: RuntimeWarning: numpy.ufunc size changed, may indicate binary incompatibility. Expected 192 from C header, got 216 from PyObject\n",
      "  return f(*args, **kwds)\n"
     ]
    }
   ],
   "source": [
    "import pandas as pd\n",
    "from pandas import tseries\n",
    "import matplotlib.pyplot as plt\n",
    "import statsmodels.api as sm\n",
    "%matplotlib inline"
   ]
  },
  {
   "cell_type": "markdown",
   "metadata": {},
   "source": [
    "## Loading time series data\n",
    "The `statsModels` library comes bundled with built-in datasets for experimentation and practice. A detailed description of these datasets can be found [here](http://www.statsmodels.org/dev/datasets/index.html). Using `statsModels`, the time series datasets can be loaded straight into memory. \n",
    "\n",
    "In this lab, we'll use the **Atmospheric CO2 from Continuous Air Samples at Mauna Loa Observatory, Hawaii, U.S.A.**, containing CO2 samples from March 1958 to December 2001. Further details on this dataset are available [here](http://www.statsmodels.org/dev/datasets/generated/co2.html).\n",
    "\n",
    "In the following cell: \n",
    "\n",
    "- We loaded the `co2` dataset using the `.load()` method \n",
    "- Converted this into a pandas DataFrame \n",
    "- Renamed the columns \n",
    "- Set the `'date'` column as index "
   ]
  },
  {
   "cell_type": "code",
   "execution_count": 2,
   "metadata": {},
   "outputs": [
    {
     "name": "stderr",
     "output_type": "stream",
     "text": [
      "/Users/stlanier/opt/anaconda3/envs/learn-env/lib/python3.6/site-packages/statsmodels/datasets/utils.py:344: FutureWarning: load will return datasets containing pandas DataFrames and Series in the Future.  To suppress this message, specify as_pandas=False\n",
      "  FutureWarning)\n"
     ]
    },
    {
     "data": {
      "text/html": [
       "<div>\n",
       "<style scoped>\n",
       "    .dataframe tbody tr th:only-of-type {\n",
       "        vertical-align: middle;\n",
       "    }\n",
       "\n",
       "    .dataframe tbody tr th {\n",
       "        vertical-align: top;\n",
       "    }\n",
       "\n",
       "    .dataframe thead th {\n",
       "        text-align: right;\n",
       "    }\n",
       "</style>\n",
       "<table border=\"1\" class=\"dataframe\">\n",
       "  <thead>\n",
       "    <tr style=\"text-align: right;\">\n",
       "      <th></th>\n",
       "      <th>co2</th>\n",
       "    </tr>\n",
       "    <tr>\n",
       "      <th>date</th>\n",
       "      <th></th>\n",
       "    </tr>\n",
       "  </thead>\n",
       "  <tbody>\n",
       "    <tr>\n",
       "      <td>1958-03-29</td>\n",
       "      <td>316.1</td>\n",
       "    </tr>\n",
       "    <tr>\n",
       "      <td>1958-04-05</td>\n",
       "      <td>317.3</td>\n",
       "    </tr>\n",
       "    <tr>\n",
       "      <td>1958-04-12</td>\n",
       "      <td>317.6</td>\n",
       "    </tr>\n",
       "    <tr>\n",
       "      <td>1958-04-19</td>\n",
       "      <td>317.5</td>\n",
       "    </tr>\n",
       "    <tr>\n",
       "      <td>1958-04-26</td>\n",
       "      <td>316.4</td>\n",
       "    </tr>\n",
       "  </tbody>\n",
       "</table>\n",
       "</div>"
      ],
      "text/plain": [
       "              co2\n",
       "date             \n",
       "1958-03-29  316.1\n",
       "1958-04-05  317.3\n",
       "1958-04-12  317.6\n",
       "1958-04-19  317.5\n",
       "1958-04-26  316.4"
      ]
     },
     "execution_count": 2,
     "metadata": {},
     "output_type": "execute_result"
    }
   ],
   "source": [
    "# Load the 'co2' dataset from sm.datasets\n",
    "data_set = sm.datasets.co2.load()\n",
    "\n",
    "# load in the data_set into pandas data_frame\n",
    "CO2 = pd.DataFrame(data=data_set['data'])\n",
    "CO2.rename(columns={'index': 'date'}, inplace=True)\n",
    "\n",
    "# set index to date column\n",
    "CO2.set_index('date', inplace=True)\n",
    "\n",
    "CO2.head()"
   ]
  },
  {
   "cell_type": "markdown",
   "metadata": {},
   "source": [
    "Let's check the data type of `CO2` and also print the first 15 entries of `CO2` as our first exploratory step."
   ]
  },
  {
   "cell_type": "code",
   "execution_count": 7,
   "metadata": {
    "scrolled": true
   },
   "outputs": [
    {
     "name": "stdout",
     "output_type": "stream",
     "text": [
      "float64\n"
     ]
    },
    {
     "data": {
      "text/html": [
       "<div>\n",
       "<style scoped>\n",
       "    .dataframe tbody tr th:only-of-type {\n",
       "        vertical-align: middle;\n",
       "    }\n",
       "\n",
       "    .dataframe tbody tr th {\n",
       "        vertical-align: top;\n",
       "    }\n",
       "\n",
       "    .dataframe thead th {\n",
       "        text-align: right;\n",
       "    }\n",
       "</style>\n",
       "<table border=\"1\" class=\"dataframe\">\n",
       "  <thead>\n",
       "    <tr style=\"text-align: right;\">\n",
       "      <th></th>\n",
       "      <th>co2</th>\n",
       "    </tr>\n",
       "    <tr>\n",
       "      <th>date</th>\n",
       "      <th></th>\n",
       "    </tr>\n",
       "  </thead>\n",
       "  <tbody>\n",
       "    <tr>\n",
       "      <td>1958-03-29</td>\n",
       "      <td>316.1</td>\n",
       "    </tr>\n",
       "    <tr>\n",
       "      <td>1958-04-05</td>\n",
       "      <td>317.3</td>\n",
       "    </tr>\n",
       "    <tr>\n",
       "      <td>1958-04-12</td>\n",
       "      <td>317.6</td>\n",
       "    </tr>\n",
       "    <tr>\n",
       "      <td>1958-04-19</td>\n",
       "      <td>317.5</td>\n",
       "    </tr>\n",
       "    <tr>\n",
       "      <td>1958-04-26</td>\n",
       "      <td>316.4</td>\n",
       "    </tr>\n",
       "    <tr>\n",
       "      <td>1958-05-03</td>\n",
       "      <td>316.9</td>\n",
       "    </tr>\n",
       "    <tr>\n",
       "      <td>1958-05-10</td>\n",
       "      <td>NaN</td>\n",
       "    </tr>\n",
       "    <tr>\n",
       "      <td>1958-05-17</td>\n",
       "      <td>317.5</td>\n",
       "    </tr>\n",
       "    <tr>\n",
       "      <td>1958-05-24</td>\n",
       "      <td>317.9</td>\n",
       "    </tr>\n",
       "    <tr>\n",
       "      <td>1958-05-31</td>\n",
       "      <td>NaN</td>\n",
       "    </tr>\n",
       "    <tr>\n",
       "      <td>1958-06-07</td>\n",
       "      <td>NaN</td>\n",
       "    </tr>\n",
       "    <tr>\n",
       "      <td>1958-06-14</td>\n",
       "      <td>NaN</td>\n",
       "    </tr>\n",
       "    <tr>\n",
       "      <td>1958-06-21</td>\n",
       "      <td>NaN</td>\n",
       "    </tr>\n",
       "    <tr>\n",
       "      <td>1958-06-28</td>\n",
       "      <td>NaN</td>\n",
       "    </tr>\n",
       "    <tr>\n",
       "      <td>1958-07-05</td>\n",
       "      <td>315.8</td>\n",
       "    </tr>\n",
       "  </tbody>\n",
       "</table>\n",
       "</div>"
      ],
      "text/plain": [
       "              co2\n",
       "date             \n",
       "1958-03-29  316.1\n",
       "1958-04-05  317.3\n",
       "1958-04-12  317.6\n",
       "1958-04-19  317.5\n",
       "1958-04-26  316.4\n",
       "1958-05-03  316.9\n",
       "1958-05-10    NaN\n",
       "1958-05-17  317.5\n",
       "1958-05-24  317.9\n",
       "1958-05-31    NaN\n",
       "1958-06-07    NaN\n",
       "1958-06-14    NaN\n",
       "1958-06-21    NaN\n",
       "1958-06-28    NaN\n",
       "1958-07-05  315.8"
      ]
     },
     "execution_count": 7,
     "metadata": {},
     "output_type": "execute_result"
    }
   ],
   "source": [
    "# Print the data type of CO2 \n",
    "print(CO2['co2'].dtype)\n",
    "\n",
    "# Print the first 15 rows of CO2\n",
    "CO2.head(15)"
   ]
  },
  {
   "cell_type": "markdown",
   "metadata": {},
   "source": [
    "With all the required packages imported and the `CO2` dataset as a Dataframe ready to go, we can move on to indexing our data.\n",
    "\n",
    "## Date Indexing\n",
    "\n",
    "While working with time series data in Python, having dates (or datetimes) in the index can be very helpful, especially if they are of `DatetimeIndex` type. Further details can be found [here](http://pandas.pydata.org/pandas-docs/stable/generated/pandas.Timestamp.html).\n",
    "\n",
    "Print the `.index` attribute of the `CO2` DataFrame: "
   ]
  },
  {
   "cell_type": "code",
   "execution_count": 8,
   "metadata": {},
   "outputs": [
    {
     "data": {
      "text/plain": [
       "DatetimeIndex(['1958-03-29', '1958-04-05', '1958-04-12', '1958-04-19',\n",
       "               '1958-04-26', '1958-05-03', '1958-05-10', '1958-05-17',\n",
       "               '1958-05-24', '1958-05-31',\n",
       "               ...\n",
       "               '2001-10-27', '2001-11-03', '2001-11-10', '2001-11-17',\n",
       "               '2001-11-24', '2001-12-01', '2001-12-08', '2001-12-15',\n",
       "               '2001-12-22', '2001-12-29'],\n",
       "              dtype='datetime64[ns]', name='date', length=2284, freq=None)"
      ]
     },
     "execution_count": 8,
     "metadata": {},
     "output_type": "execute_result"
    }
   ],
   "source": [
    "# Confirm that date values are used for indexing purpose in the CO2 dataset \n",
    "CO2.index"
   ]
  },
  {
   "cell_type": "markdown",
   "metadata": {},
   "source": [
    "The output above shows that our dataset clearly fulfills the indexing requirements. Look at the last line:\n",
    "\n",
    "\n",
    "> **dtype='datetime64[ns]', length=2284, freq='W-SAT'**\n",
    "\n",
    "\n",
    "* `dtype=datetime[ns]` field confirms that the index is made of timestamp objects.\n",
    "* `length=2284` shows the total number of entries in our time series data. \n",
    "\n",
    "## Resampling\n",
    "\n",
    "Remember that depending on the nature of analytical question, the resolution of timestamps can also be changed to other frequencies. For this dataset we can resample to monthly CO2 consumption values. This can be done by using the `.resample()` method as seen in the earlier lesson. \n",
    "\n",
    "* Group the data into buckets representing 1 month using `.resample()` method \n",
    "* Call the `.mean()` method on each group (i.e. get monthly average) \n",
    "* Combine the result as one row per monthly group "
   ]
  },
  {
   "cell_type": "code",
   "execution_count": 9,
   "metadata": {},
   "outputs": [
    {
     "data": {
      "text/html": [
       "<div>\n",
       "<style scoped>\n",
       "    .dataframe tbody tr th:only-of-type {\n",
       "        vertical-align: middle;\n",
       "    }\n",
       "\n",
       "    .dataframe tbody tr th {\n",
       "        vertical-align: top;\n",
       "    }\n",
       "\n",
       "    .dataframe thead th {\n",
       "        text-align: right;\n",
       "    }\n",
       "</style>\n",
       "<table border=\"1\" class=\"dataframe\">\n",
       "  <thead>\n",
       "    <tr style=\"text-align: right;\">\n",
       "      <th></th>\n",
       "      <th>co2</th>\n",
       "    </tr>\n",
       "    <tr>\n",
       "      <th>date</th>\n",
       "      <th></th>\n",
       "    </tr>\n",
       "  </thead>\n",
       "  <tbody>\n",
       "    <tr>\n",
       "      <td>1958-03-01</td>\n",
       "      <td>316.100000</td>\n",
       "    </tr>\n",
       "    <tr>\n",
       "      <td>1958-04-01</td>\n",
       "      <td>317.200000</td>\n",
       "    </tr>\n",
       "    <tr>\n",
       "      <td>1958-05-01</td>\n",
       "      <td>317.433333</td>\n",
       "    </tr>\n",
       "    <tr>\n",
       "      <td>1958-06-01</td>\n",
       "      <td>NaN</td>\n",
       "    </tr>\n",
       "    <tr>\n",
       "      <td>1958-07-01</td>\n",
       "      <td>315.625000</td>\n",
       "    </tr>\n",
       "    <tr>\n",
       "      <td>1958-08-01</td>\n",
       "      <td>314.950000</td>\n",
       "    </tr>\n",
       "    <tr>\n",
       "      <td>1958-09-01</td>\n",
       "      <td>313.500000</td>\n",
       "    </tr>\n",
       "    <tr>\n",
       "      <td>1958-10-01</td>\n",
       "      <td>NaN</td>\n",
       "    </tr>\n",
       "    <tr>\n",
       "      <td>1958-11-01</td>\n",
       "      <td>313.425000</td>\n",
       "    </tr>\n",
       "    <tr>\n",
       "      <td>1958-12-01</td>\n",
       "      <td>314.700000</td>\n",
       "    </tr>\n",
       "  </tbody>\n",
       "</table>\n",
       "</div>"
      ],
      "text/plain": [
       "                   co2\n",
       "date                  \n",
       "1958-03-01  316.100000\n",
       "1958-04-01  317.200000\n",
       "1958-05-01  317.433333\n",
       "1958-06-01         NaN\n",
       "1958-07-01  315.625000\n",
       "1958-08-01  314.950000\n",
       "1958-09-01  313.500000\n",
       "1958-10-01         NaN\n",
       "1958-11-01  313.425000\n",
       "1958-12-01  314.700000"
      ]
     },
     "execution_count": 9,
     "metadata": {},
     "output_type": "execute_result"
    }
   ],
   "source": [
    "# Group the time series into monthly buckets\n",
    "CO2_monthly = CO2.resample('MS')\n",
    "\n",
    "# Take the mean of each group \n",
    "CO2_monthly_mean = CO2_monthly.mean()\n",
    "\n",
    "# Get the first 10 elements of resulting time series\n",
    "CO2_monthly_mean.head(10)"
   ]
  },
  {
   "cell_type": "markdown",
   "metadata": {},
   "source": [
    "Looking at the index values, we can see that our time series now carries aggregated data on monthly terms, shown as `Freq: MS`. \n",
    "\n",
    "### Time-series Index Slicing for Data Selection\n",
    "\n",
    "Slice our dataset to only retrieve data points that come after the year 1990."
   ]
  },
  {
   "cell_type": "code",
   "execution_count": 11,
   "metadata": {},
   "outputs": [
    {
     "data": {
      "text/html": [
       "<div>\n",
       "<style scoped>\n",
       "    .dataframe tbody tr th:only-of-type {\n",
       "        vertical-align: middle;\n",
       "    }\n",
       "\n",
       "    .dataframe tbody tr th {\n",
       "        vertical-align: top;\n",
       "    }\n",
       "\n",
       "    .dataframe thead th {\n",
       "        text-align: right;\n",
       "    }\n",
       "</style>\n",
       "<table border=\"1\" class=\"dataframe\">\n",
       "  <thead>\n",
       "    <tr style=\"text-align: right;\">\n",
       "      <th></th>\n",
       "      <th>co2</th>\n",
       "    </tr>\n",
       "    <tr>\n",
       "      <th>date</th>\n",
       "      <th></th>\n",
       "    </tr>\n",
       "  </thead>\n",
       "  <tbody>\n",
       "    <tr>\n",
       "      <td>1990-01-06</td>\n",
       "      <td>353.4</td>\n",
       "    </tr>\n",
       "    <tr>\n",
       "      <td>1990-01-13</td>\n",
       "      <td>353.5</td>\n",
       "    </tr>\n",
       "    <tr>\n",
       "      <td>1990-01-20</td>\n",
       "      <td>353.8</td>\n",
       "    </tr>\n",
       "    <tr>\n",
       "      <td>1990-01-27</td>\n",
       "      <td>353.9</td>\n",
       "    </tr>\n",
       "    <tr>\n",
       "      <td>1990-02-03</td>\n",
       "      <td>354.1</td>\n",
       "    </tr>\n",
       "    <tr>\n",
       "      <td>...</td>\n",
       "      <td>...</td>\n",
       "    </tr>\n",
       "    <tr>\n",
       "      <td>2001-12-01</td>\n",
       "      <td>370.3</td>\n",
       "    </tr>\n",
       "    <tr>\n",
       "      <td>2001-12-08</td>\n",
       "      <td>370.8</td>\n",
       "    </tr>\n",
       "    <tr>\n",
       "      <td>2001-12-15</td>\n",
       "      <td>371.2</td>\n",
       "    </tr>\n",
       "    <tr>\n",
       "      <td>2001-12-22</td>\n",
       "      <td>371.3</td>\n",
       "    </tr>\n",
       "    <tr>\n",
       "      <td>2001-12-29</td>\n",
       "      <td>371.5</td>\n",
       "    </tr>\n",
       "  </tbody>\n",
       "</table>\n",
       "<p>626 rows × 1 columns</p>\n",
       "</div>"
      ],
      "text/plain": [
       "              co2\n",
       "date             \n",
       "1990-01-06  353.4\n",
       "1990-01-13  353.5\n",
       "1990-01-20  353.8\n",
       "1990-01-27  353.9\n",
       "1990-02-03  354.1\n",
       "...           ...\n",
       "2001-12-01  370.3\n",
       "2001-12-08  370.8\n",
       "2001-12-15  371.2\n",
       "2001-12-22  371.3\n",
       "2001-12-29  371.5\n",
       "\n",
       "[626 rows x 1 columns]"
      ]
     },
     "execution_count": 11,
     "metadata": {},
     "output_type": "execute_result"
    }
   ],
   "source": [
    "# Slice the timeseries to contain data after year 1990 \n",
    "after90 = CO2['1990':]\n",
    "after90"
   ]
  },
  {
   "cell_type": "markdown",
   "metadata": {},
   "source": [
    "Retrieve data starting from Jan 1990 to Jan 1991: "
   ]
  },
  {
   "cell_type": "code",
   "execution_count": 13,
   "metadata": {},
   "outputs": [
    {
     "data": {
      "text/html": [
       "<div>\n",
       "<style scoped>\n",
       "    .dataframe tbody tr th:only-of-type {\n",
       "        vertical-align: middle;\n",
       "    }\n",
       "\n",
       "    .dataframe tbody tr th {\n",
       "        vertical-align: top;\n",
       "    }\n",
       "\n",
       "    .dataframe thead th {\n",
       "        text-align: right;\n",
       "    }\n",
       "</style>\n",
       "<table border=\"1\" class=\"dataframe\">\n",
       "  <thead>\n",
       "    <tr style=\"text-align: right;\">\n",
       "      <th></th>\n",
       "      <th>co2</th>\n",
       "    </tr>\n",
       "    <tr>\n",
       "      <th>date</th>\n",
       "      <th></th>\n",
       "    </tr>\n",
       "  </thead>\n",
       "  <tbody>\n",
       "    <tr>\n",
       "      <td>1990-01-01</td>\n",
       "      <td>353.650</td>\n",
       "    </tr>\n",
       "    <tr>\n",
       "      <td>1990-02-01</td>\n",
       "      <td>354.650</td>\n",
       "    </tr>\n",
       "    <tr>\n",
       "      <td>1990-03-01</td>\n",
       "      <td>355.480</td>\n",
       "    </tr>\n",
       "    <tr>\n",
       "      <td>1990-04-01</td>\n",
       "      <td>356.175</td>\n",
       "    </tr>\n",
       "    <tr>\n",
       "      <td>1990-05-01</td>\n",
       "      <td>357.075</td>\n",
       "    </tr>\n",
       "    <tr>\n",
       "      <td>1990-06-01</td>\n",
       "      <td>356.080</td>\n",
       "    </tr>\n",
       "    <tr>\n",
       "      <td>1990-07-01</td>\n",
       "      <td>354.675</td>\n",
       "    </tr>\n",
       "    <tr>\n",
       "      <td>1990-08-01</td>\n",
       "      <td>352.900</td>\n",
       "    </tr>\n",
       "    <tr>\n",
       "      <td>1990-09-01</td>\n",
       "      <td>350.940</td>\n",
       "    </tr>\n",
       "    <tr>\n",
       "      <td>1990-10-01</td>\n",
       "      <td>351.225</td>\n",
       "    </tr>\n",
       "    <tr>\n",
       "      <td>1990-11-01</td>\n",
       "      <td>352.700</td>\n",
       "    </tr>\n",
       "    <tr>\n",
       "      <td>1990-12-01</td>\n",
       "      <td>354.140</td>\n",
       "    </tr>\n",
       "    <tr>\n",
       "      <td>1991-01-01</td>\n",
       "      <td>354.675</td>\n",
       "    </tr>\n",
       "  </tbody>\n",
       "</table>\n",
       "</div>"
      ],
      "text/plain": [
       "                co2\n",
       "date               \n",
       "1990-01-01  353.650\n",
       "1990-02-01  354.650\n",
       "1990-03-01  355.480\n",
       "1990-04-01  356.175\n",
       "1990-05-01  357.075\n",
       "1990-06-01  356.080\n",
       "1990-07-01  354.675\n",
       "1990-08-01  352.900\n",
       "1990-09-01  350.940\n",
       "1990-10-01  351.225\n",
       "1990-11-01  352.700\n",
       "1990-12-01  354.140\n",
       "1991-01-01  354.675"
      ]
     },
     "execution_count": 13,
     "metadata": {},
     "output_type": "execute_result"
    }
   ],
   "source": [
    "# Retrieve the data between 1st Jan 1990 to 1st Jan 1991\n",
    "yr90 = CO2_monthly_mean['1990-01-01':'1991-01-01']\n",
    "yr90"
   ]
  },
  {
   "cell_type": "markdown",
   "metadata": {},
   "source": [
    "## Missing Values\n",
    "\n",
    "Find the total number of missing values in the dataset."
   ]
  },
  {
   "cell_type": "code",
   "execution_count": 14,
   "metadata": {},
   "outputs": [
    {
     "data": {
      "text/plain": [
       "co2    59\n",
       "dtype: int64"
      ]
     },
     "execution_count": 14,
     "metadata": {},
     "output_type": "execute_result"
    }
   ],
   "source": [
    "# Find the total number of missing values in the time series\n",
    "CO2.isnull().sum()"
   ]
  },
  {
   "cell_type": "markdown",
   "metadata": {},
   "source": [
    "Remember that missing values can be filled in a multitude of ways. \n",
    "\n",
    "- Replace the missing values in `CO2_monthly_mean` with a previous valid value \n",
    "- Next, check if your attempt was successful by checking for number of missing values again "
   ]
  },
  {
   "cell_type": "code",
   "execution_count": 15,
   "metadata": {},
   "outputs": [
    {
     "data": {
      "text/plain": [
       "co2    0\n",
       "dtype: int64"
      ]
     },
     "execution_count": 15,
     "metadata": {},
     "output_type": "execute_result"
    }
   ],
   "source": [
    "# Perform backward filling of missing values\n",
    "CO2_final = CO2.ffill()\n",
    "\n",
    "# Find the total number of missing values in the time series\n",
    "CO2_final.isnull().sum()"
   ]
  },
  {
   "cell_type": "markdown",
   "metadata": {},
   "source": [
    "Great! Now your time series data are ready for visualization and further analysis.\n",
    "\n",
    "## Summary\n",
    "\n",
    "In this introductory lab, you learned how to create a time series object in Python using Pandas. You learned how to check timestamp values as the data index and you learned about basic data handling techniques for time-series data for further analysis."
   ]
  },
  {
   "cell_type": "code",
   "execution_count": 18,
   "metadata": {},
   "outputs": [
    {
     "data": {
      "text/plain": [
       "<matplotlib.axes._subplots.AxesSubplot at 0x7fd2d1c9e390>"
      ]
     },
     "execution_count": 18,
     "metadata": {},
     "output_type": "execute_result"
    },
    {
     "data": {
      "image/png": "[encoded data removed]",
      "text/plain": [
       "<Figure size 432x288 with 1 Axes>"
      ]
     },
     "metadata": {
      "needs_background": "light"
     },
     "output_type": "display_data"
    }
   ],
   "source": [
    "CO2_final.plot()"
   ]
  },
  {
   "cell_type": "code",
   "execution_count": null,
   "metadata": {},
   "outputs": [],
   "source": []
  }
 ],
 "metadata": {
  "kernelspec": {
   "display_name": "Python 3",
   "language": "python",
   "name": "python3"
  },
  "language_info": {
   "codemirror_mode": {
    "name": "ipython",
    "version": 3
   },
   "file_extension": ".py",
   "mimetype": "text/x-python",
   "name": "python",
   "nbconvert_exporter": "python",
   "pygments_lexer": "ipython3",
   "version": "3.6.9"
  }
 },
 "nbformat": 4,
 "nbformat_minor": 2
}
